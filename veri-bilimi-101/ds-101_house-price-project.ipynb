{
 "cells": [
  {
   "cell_type": "markdown",
   "metadata": {},
   "source": [
    "# House Prices\n",
    "\n",
    "## Competition Description\n",
    "\n",
    "Ask a home buyer to describe their dream house, and they probably won't begin with the height of the basement ceiling or the proximity to an east-west railroad. But this playground competition's dataset proves that much more influences price negotiations than the number of bedrooms or a white-picket fence.\n",
    "\n",
    "With 79 explanatory variables describing (almost) every aspect of residential homes in Ames, Iowa, this competition challenges you to predict the final price of each home.\n",
    "\n",
    "## Goal\n",
    "It is your job to predict the sales price for each house. For each Id in the test set, you must predict the value of the SalePrice variable. \n",
    "\n",
    "## Metric\n",
    "Submissions are evaluated on Root-Mean-Squared-Error (RMSE) between the logarithm of the predicted value and the logarithm of the observed sales price. (Taking logs means that errors in predicting expensive houses and cheap houses will affect the result equally.)\n",
    "\n",
    "## Data Source\n",
    "Anna Montoya, DataCanary. (2016). House Prices - Advanced Regression Techniques. Kaggle.  \n",
    "https://kaggle.com/competitions/house-prices-advanced-regression-techniques"
   ]
  },
  {
   "cell_type": "markdown",
   "metadata": {},
   "source": [
    "## Data Exploration"
   ]
  },
  {
   "cell_type": "code",
   "execution_count": 59,
   "metadata": {},
   "outputs": [],
   "source": [
    "import pandas as pd\n",
    "import numpy as np\n",
    "import pathlib\n",
    "from IPython.display import display"
   ]
  },
  {
   "cell_type": "code",
   "execution_count": 60,
   "metadata": {},
   "outputs": [],
   "source": [
    "NOTEBOOK_PATH = pathlib.Path().resolve()\n",
    "DATA_DIR = NOTEBOOK_PATH/\"data\"  # defining data directory"
   ]
  },
  {
   "cell_type": "code",
   "execution_count": 61,
   "metadata": {},
   "outputs": [],
   "source": [
    "df = pd.read_csv(DATA_DIR/\"train.csv\",sep=\",\")"
   ]
  },
  {
   "cell_type": "code",
   "execution_count": 62,
   "metadata": {},
   "outputs": [
    {
     "data": {
      "text/html": [
       "<div>\n",
       "<style scoped>\n",
       "    .dataframe tbody tr th:only-of-type {\n",
       "        vertical-align: middle;\n",
       "    }\n",
       "\n",
       "    .dataframe tbody tr th {\n",
       "        vertical-align: top;\n",
       "    }\n",
       "\n",
       "    .dataframe thead th {\n",
       "        text-align: right;\n",
       "    }\n",
       "</style>\n",
       "<table border=\"1\" class=\"dataframe\">\n",
       "  <thead>\n",
       "    <tr style=\"text-align: right;\">\n",
       "      <th></th>\n",
       "      <th>Id</th>\n",
       "      <th>MSSubClass</th>\n",
       "      <th>MSZoning</th>\n",
       "      <th>LotFrontage</th>\n",
       "      <th>LotArea</th>\n",
       "      <th>Street</th>\n",
       "      <th>Alley</th>\n",
       "      <th>LotShape</th>\n",
       "      <th>LandContour</th>\n",
       "      <th>Utilities</th>\n",
       "      <th>...</th>\n",
       "      <th>PoolArea</th>\n",
       "      <th>PoolQC</th>\n",
       "      <th>Fence</th>\n",
       "      <th>MiscFeature</th>\n",
       "      <th>MiscVal</th>\n",
       "      <th>MoSold</th>\n",
       "      <th>YrSold</th>\n",
       "      <th>SaleType</th>\n",
       "      <th>SaleCondition</th>\n",
       "      <th>SalePrice</th>\n",
       "    </tr>\n",
       "  </thead>\n",
       "  <tbody>\n",
       "    <tr>\n",
       "      <th>0</th>\n",
       "      <td>1</td>\n",
       "      <td>60</td>\n",
       "      <td>RL</td>\n",
       "      <td>65.0</td>\n",
       "      <td>8450</td>\n",
       "      <td>Pave</td>\n",
       "      <td>NaN</td>\n",
       "      <td>Reg</td>\n",
       "      <td>Lvl</td>\n",
       "      <td>AllPub</td>\n",
       "      <td>...</td>\n",
       "      <td>0</td>\n",
       "      <td>NaN</td>\n",
       "      <td>NaN</td>\n",
       "      <td>NaN</td>\n",
       "      <td>0</td>\n",
       "      <td>2</td>\n",
       "      <td>2008</td>\n",
       "      <td>WD</td>\n",
       "      <td>Normal</td>\n",
       "      <td>208500</td>\n",
       "    </tr>\n",
       "    <tr>\n",
       "      <th>1</th>\n",
       "      <td>2</td>\n",
       "      <td>20</td>\n",
       "      <td>RL</td>\n",
       "      <td>80.0</td>\n",
       "      <td>9600</td>\n",
       "      <td>Pave</td>\n",
       "      <td>NaN</td>\n",
       "      <td>Reg</td>\n",
       "      <td>Lvl</td>\n",
       "      <td>AllPub</td>\n",
       "      <td>...</td>\n",
       "      <td>0</td>\n",
       "      <td>NaN</td>\n",
       "      <td>NaN</td>\n",
       "      <td>NaN</td>\n",
       "      <td>0</td>\n",
       "      <td>5</td>\n",
       "      <td>2007</td>\n",
       "      <td>WD</td>\n",
       "      <td>Normal</td>\n",
       "      <td>181500</td>\n",
       "    </tr>\n",
       "    <tr>\n",
       "      <th>2</th>\n",
       "      <td>3</td>\n",
       "      <td>60</td>\n",
       "      <td>RL</td>\n",
       "      <td>68.0</td>\n",
       "      <td>11250</td>\n",
       "      <td>Pave</td>\n",
       "      <td>NaN</td>\n",
       "      <td>IR1</td>\n",
       "      <td>Lvl</td>\n",
       "      <td>AllPub</td>\n",
       "      <td>...</td>\n",
       "      <td>0</td>\n",
       "      <td>NaN</td>\n",
       "      <td>NaN</td>\n",
       "      <td>NaN</td>\n",
       "      <td>0</td>\n",
       "      <td>9</td>\n",
       "      <td>2008</td>\n",
       "      <td>WD</td>\n",
       "      <td>Normal</td>\n",
       "      <td>223500</td>\n",
       "    </tr>\n",
       "    <tr>\n",
       "      <th>3</th>\n",
       "      <td>4</td>\n",
       "      <td>70</td>\n",
       "      <td>RL</td>\n",
       "      <td>60.0</td>\n",
       "      <td>9550</td>\n",
       "      <td>Pave</td>\n",
       "      <td>NaN</td>\n",
       "      <td>IR1</td>\n",
       "      <td>Lvl</td>\n",
       "      <td>AllPub</td>\n",
       "      <td>...</td>\n",
       "      <td>0</td>\n",
       "      <td>NaN</td>\n",
       "      <td>NaN</td>\n",
       "      <td>NaN</td>\n",
       "      <td>0</td>\n",
       "      <td>2</td>\n",
       "      <td>2006</td>\n",
       "      <td>WD</td>\n",
       "      <td>Abnorml</td>\n",
       "      <td>140000</td>\n",
       "    </tr>\n",
       "    <tr>\n",
       "      <th>4</th>\n",
       "      <td>5</td>\n",
       "      <td>60</td>\n",
       "      <td>RL</td>\n",
       "      <td>84.0</td>\n",
       "      <td>14260</td>\n",
       "      <td>Pave</td>\n",
       "      <td>NaN</td>\n",
       "      <td>IR1</td>\n",
       "      <td>Lvl</td>\n",
       "      <td>AllPub</td>\n",
       "      <td>...</td>\n",
       "      <td>0</td>\n",
       "      <td>NaN</td>\n",
       "      <td>NaN</td>\n",
       "      <td>NaN</td>\n",
       "      <td>0</td>\n",
       "      <td>12</td>\n",
       "      <td>2008</td>\n",
       "      <td>WD</td>\n",
       "      <td>Normal</td>\n",
       "      <td>250000</td>\n",
       "    </tr>\n",
       "  </tbody>\n",
       "</table>\n",
       "<p>5 rows × 81 columns</p>\n",
       "</div>"
      ],
      "text/plain": [
       "   Id  MSSubClass MSZoning  LotFrontage  LotArea Street Alley LotShape  \\\n",
       "0   1          60       RL         65.0     8450   Pave   NaN      Reg   \n",
       "1   2          20       RL         80.0     9600   Pave   NaN      Reg   \n",
       "2   3          60       RL         68.0    11250   Pave   NaN      IR1   \n",
       "3   4          70       RL         60.0     9550   Pave   NaN      IR1   \n",
       "4   5          60       RL         84.0    14260   Pave   NaN      IR1   \n",
       "\n",
       "  LandContour Utilities  ... PoolArea PoolQC Fence MiscFeature MiscVal MoSold  \\\n",
       "0         Lvl    AllPub  ...        0    NaN   NaN         NaN       0      2   \n",
       "1         Lvl    AllPub  ...        0    NaN   NaN         NaN       0      5   \n",
       "2         Lvl    AllPub  ...        0    NaN   NaN         NaN       0      9   \n",
       "3         Lvl    AllPub  ...        0    NaN   NaN         NaN       0      2   \n",
       "4         Lvl    AllPub  ...        0    NaN   NaN         NaN       0     12   \n",
       "\n",
       "  YrSold  SaleType  SaleCondition  SalePrice  \n",
       "0   2008        WD         Normal     208500  \n",
       "1   2007        WD         Normal     181500  \n",
       "2   2008        WD         Normal     223500  \n",
       "3   2006        WD        Abnorml     140000  \n",
       "4   2008        WD         Normal     250000  \n",
       "\n",
       "[5 rows x 81 columns]"
      ]
     },
     "execution_count": 62,
     "metadata": {},
     "output_type": "execute_result"
    }
   ],
   "source": [
    "df.head()"
   ]
  },
  {
   "cell_type": "code",
   "execution_count": 63,
   "metadata": {},
   "outputs": [
    {
     "name": "stdout",
     "output_type": "stream",
     "text": [
      "<class 'pandas.core.frame.DataFrame'>\n",
      "RangeIndex: 1460 entries, 0 to 1459\n",
      "Data columns (total 81 columns):\n",
      " #   Column         Non-Null Count  Dtype  \n",
      "---  ------         --------------  -----  \n",
      " 0   Id             1460 non-null   int64  \n",
      " 1   MSSubClass     1460 non-null   int64  \n",
      " 2   MSZoning       1460 non-null   object \n",
      " 3   LotFrontage    1201 non-null   float64\n",
      " 4   LotArea        1460 non-null   int64  \n",
      " 5   Street         1460 non-null   object \n",
      " 6   Alley          91 non-null     object \n",
      " 7   LotShape       1460 non-null   object \n",
      " 8   LandContour    1460 non-null   object \n",
      " 9   Utilities      1460 non-null   object \n",
      " 10  LotConfig      1460 non-null   object \n",
      " 11  LandSlope      1460 non-null   object \n",
      " 12  Neighborhood   1460 non-null   object \n",
      " 13  Condition1     1460 non-null   object \n",
      " 14  Condition2     1460 non-null   object \n",
      " 15  BldgType       1460 non-null   object \n",
      " 16  HouseStyle     1460 non-null   object \n",
      " 17  OverallQual    1460 non-null   int64  \n",
      " 18  OverallCond    1460 non-null   int64  \n",
      " 19  YearBuilt      1460 non-null   int64  \n",
      " 20  YearRemodAdd   1460 non-null   int64  \n",
      " 21  RoofStyle      1460 non-null   object \n",
      " 22  RoofMatl       1460 non-null   object \n",
      " 23  Exterior1st    1460 non-null   object \n",
      " 24  Exterior2nd    1460 non-null   object \n",
      " 25  MasVnrType     1452 non-null   object \n",
      " 26  MasVnrArea     1452 non-null   float64\n",
      " 27  ExterQual      1460 non-null   object \n",
      " 28  ExterCond      1460 non-null   object \n",
      " 29  Foundation     1460 non-null   object \n",
      " 30  BsmtQual       1423 non-null   object \n",
      " 31  BsmtCond       1423 non-null   object \n",
      " 32  BsmtExposure   1422 non-null   object \n",
      " 33  BsmtFinType1   1423 non-null   object \n",
      " 34  BsmtFinSF1     1460 non-null   int64  \n",
      " 35  BsmtFinType2   1422 non-null   object \n",
      " 36  BsmtFinSF2     1460 non-null   int64  \n",
      " 37  BsmtUnfSF      1460 non-null   int64  \n",
      " 38  TotalBsmtSF    1460 non-null   int64  \n",
      " 39  Heating        1460 non-null   object \n",
      " 40  HeatingQC      1460 non-null   object \n",
      " 41  CentralAir     1460 non-null   object \n",
      " 42  Electrical     1459 non-null   object \n",
      " 43  1stFlrSF       1460 non-null   int64  \n",
      " 44  2ndFlrSF       1460 non-null   int64  \n",
      " 45  LowQualFinSF   1460 non-null   int64  \n",
      " 46  GrLivArea      1460 non-null   int64  \n",
      " 47  BsmtFullBath   1460 non-null   int64  \n",
      " 48  BsmtHalfBath   1460 non-null   int64  \n",
      " 49  FullBath       1460 non-null   int64  \n",
      " 50  HalfBath       1460 non-null   int64  \n",
      " 51  BedroomAbvGr   1460 non-null   int64  \n",
      " 52  KitchenAbvGr   1460 non-null   int64  \n",
      " 53  KitchenQual    1460 non-null   object \n",
      " 54  TotRmsAbvGrd   1460 non-null   int64  \n",
      " 55  Functional     1460 non-null   object \n",
      " 56  Fireplaces     1460 non-null   int64  \n",
      " 57  FireplaceQu    770 non-null    object \n",
      " 58  GarageType     1379 non-null   object \n",
      " 59  GarageYrBlt    1379 non-null   float64\n",
      " 60  GarageFinish   1379 non-null   object \n",
      " 61  GarageCars     1460 non-null   int64  \n",
      " 62  GarageArea     1460 non-null   int64  \n",
      " 63  GarageQual     1379 non-null   object \n",
      " 64  GarageCond     1379 non-null   object \n",
      " 65  PavedDrive     1460 non-null   object \n",
      " 66  WoodDeckSF     1460 non-null   int64  \n",
      " 67  OpenPorchSF    1460 non-null   int64  \n",
      " 68  EnclosedPorch  1460 non-null   int64  \n",
      " 69  3SsnPorch      1460 non-null   int64  \n",
      " 70  ScreenPorch    1460 non-null   int64  \n",
      " 71  PoolArea       1460 non-null   int64  \n",
      " 72  PoolQC         7 non-null      object \n",
      " 73  Fence          281 non-null    object \n",
      " 74  MiscFeature    54 non-null     object \n",
      " 75  MiscVal        1460 non-null   int64  \n",
      " 76  MoSold         1460 non-null   int64  \n",
      " 77  YrSold         1460 non-null   int64  \n",
      " 78  SaleType       1460 non-null   object \n",
      " 79  SaleCondition  1460 non-null   object \n",
      " 80  SalePrice      1460 non-null   int64  \n",
      "dtypes: float64(3), int64(35), object(43)\n",
      "memory usage: 924.0+ KB\n"
     ]
    }
   ],
   "source": [
    "df.info()"
   ]
  },
  {
   "cell_type": "code",
   "execution_count": 64,
   "metadata": {},
   "outputs": [],
   "source": [
    "df[\"SalePrice\"]=np.log(df.SalePrice)"
   ]
  },
  {
   "cell_type": "markdown",
   "metadata": {},
   "source": [
    "# Handling with Categoric Features"
   ]
  },
  {
   "cell_type": "markdown",
   "metadata": {},
   "source": [
    "There is 43 columns which have object dtype. Also ,as data description says, MSSubClass column is a categoric feature. For encoding, OrdinalEncoder will be used"
   ]
  },
  {
   "cell_type": "code",
   "execution_count": 65,
   "metadata": {},
   "outputs": [],
   "source": [
    "from sklearn.preprocessing import OrdinalEncoder"
   ]
  },
  {
   "cell_type": "code",
   "execution_count": 66,
   "metadata": {},
   "outputs": [],
   "source": [
    "from pandas.api.types import is_object_dtype \n",
    "\n",
    "enc = OrdinalEncoder()\n",
    "for name,column in df.items():\n",
    "    if is_object_dtype(column):\n",
    "          df[name] = column.astype(\"category\").cat.as_ordered()"
   ]
  },
  {
   "cell_type": "code",
   "execution_count": 67,
   "metadata": {},
   "outputs": [
    {
     "name": "stdout",
     "output_type": "stream",
     "text": [
      "<class 'pandas.core.frame.DataFrame'>\n",
      "RangeIndex: 1460 entries, 0 to 1459\n",
      "Data columns (total 81 columns):\n",
      " #   Column         Non-Null Count  Dtype   \n",
      "---  ------         --------------  -----   \n",
      " 0   Id             1460 non-null   int64   \n",
      " 1   MSSubClass     1460 non-null   int64   \n",
      " 2   MSZoning       1460 non-null   category\n",
      " 3   LotFrontage    1201 non-null   float64 \n",
      " 4   LotArea        1460 non-null   int64   \n",
      " 5   Street         1460 non-null   category\n",
      " 6   Alley          91 non-null     category\n",
      " 7   LotShape       1460 non-null   category\n",
      " 8   LandContour    1460 non-null   category\n",
      " 9   Utilities      1460 non-null   category\n",
      " 10  LotConfig      1460 non-null   category\n",
      " 11  LandSlope      1460 non-null   category\n",
      " 12  Neighborhood   1460 non-null   category\n",
      " 13  Condition1     1460 non-null   category\n",
      " 14  Condition2     1460 non-null   category\n",
      " 15  BldgType       1460 non-null   category\n",
      " 16  HouseStyle     1460 non-null   category\n",
      " 17  OverallQual    1460 non-null   int64   \n",
      " 18  OverallCond    1460 non-null   int64   \n",
      " 19  YearBuilt      1460 non-null   int64   \n",
      " 20  YearRemodAdd   1460 non-null   int64   \n",
      " 21  RoofStyle      1460 non-null   category\n",
      " 22  RoofMatl       1460 non-null   category\n",
      " 23  Exterior1st    1460 non-null   category\n",
      " 24  Exterior2nd    1460 non-null   category\n",
      " 25  MasVnrType     1452 non-null   category\n",
      " 26  MasVnrArea     1452 non-null   float64 \n",
      " 27  ExterQual      1460 non-null   category\n",
      " 28  ExterCond      1460 non-null   category\n",
      " 29  Foundation     1460 non-null   category\n",
      " 30  BsmtQual       1423 non-null   category\n",
      " 31  BsmtCond       1423 non-null   category\n",
      " 32  BsmtExposure   1422 non-null   category\n",
      " 33  BsmtFinType1   1423 non-null   category\n",
      " 34  BsmtFinSF1     1460 non-null   int64   \n",
      " 35  BsmtFinType2   1422 non-null   category\n",
      " 36  BsmtFinSF2     1460 non-null   int64   \n",
      " 37  BsmtUnfSF      1460 non-null   int64   \n",
      " 38  TotalBsmtSF    1460 non-null   int64   \n",
      " 39  Heating        1460 non-null   category\n",
      " 40  HeatingQC      1460 non-null   category\n",
      " 41  CentralAir     1460 non-null   category\n",
      " 42  Electrical     1459 non-null   category\n",
      " 43  1stFlrSF       1460 non-null   int64   \n",
      " 44  2ndFlrSF       1460 non-null   int64   \n",
      " 45  LowQualFinSF   1460 non-null   int64   \n",
      " 46  GrLivArea      1460 non-null   int64   \n",
      " 47  BsmtFullBath   1460 non-null   int64   \n",
      " 48  BsmtHalfBath   1460 non-null   int64   \n",
      " 49  FullBath       1460 non-null   int64   \n",
      " 50  HalfBath       1460 non-null   int64   \n",
      " 51  BedroomAbvGr   1460 non-null   int64   \n",
      " 52  KitchenAbvGr   1460 non-null   int64   \n",
      " 53  KitchenQual    1460 non-null   category\n",
      " 54  TotRmsAbvGrd   1460 non-null   int64   \n",
      " 55  Functional     1460 non-null   category\n",
      " 56  Fireplaces     1460 non-null   int64   \n",
      " 57  FireplaceQu    770 non-null    category\n",
      " 58  GarageType     1379 non-null   category\n",
      " 59  GarageYrBlt    1379 non-null   float64 \n",
      " 60  GarageFinish   1379 non-null   category\n",
      " 61  GarageCars     1460 non-null   int64   \n",
      " 62  GarageArea     1460 non-null   int64   \n",
      " 63  GarageQual     1379 non-null   category\n",
      " 64  GarageCond     1379 non-null   category\n",
      " 65  PavedDrive     1460 non-null   category\n",
      " 66  WoodDeckSF     1460 non-null   int64   \n",
      " 67  OpenPorchSF    1460 non-null   int64   \n",
      " 68  EnclosedPorch  1460 non-null   int64   \n",
      " 69  3SsnPorch      1460 non-null   int64   \n",
      " 70  ScreenPorch    1460 non-null   int64   \n",
      " 71  PoolArea       1460 non-null   int64   \n",
      " 72  PoolQC         7 non-null      category\n",
      " 73  Fence          281 non-null    category\n",
      " 74  MiscFeature    54 non-null     category\n",
      " 75  MiscVal        1460 non-null   int64   \n",
      " 76  MoSold         1460 non-null   int64   \n",
      " 77  YrSold         1460 non-null   int64   \n",
      " 78  SaleType       1460 non-null   category\n",
      " 79  SaleCondition  1460 non-null   category\n",
      " 80  SalePrice      1460 non-null   float64 \n",
      "dtypes: category(43), float64(4), int64(34)\n",
      "memory usage: 505.3 KB\n"
     ]
    }
   ],
   "source": [
    "df.info()"
   ]
  },
  {
   "cell_type": "code",
   "execution_count": 68,
   "metadata": {},
   "outputs": [
    {
     "data": {
      "text/plain": [
       "0       RL\n",
       "1       RL\n",
       "2       RL\n",
       "3       RL\n",
       "4       RL\n",
       "        ..\n",
       "1455    RL\n",
       "1456    RL\n",
       "1457    RL\n",
       "1458    RL\n",
       "1459    RL\n",
       "Name: MSZoning, Length: 1460, dtype: category\n",
       "Categories (5, object): [C (all) < FV < RH < RL < RM]"
      ]
     },
     "execution_count": 68,
     "metadata": {},
     "output_type": "execute_result"
    }
   ],
   "source": [
    "df[\"MSZoning\"]"
   ]
  },
  {
   "cell_type": "code",
   "execution_count": 69,
   "metadata": {},
   "outputs": [
    {
     "data": {
      "text/plain": [
       "0       NaN\n",
       "1       NaN\n",
       "2       NaN\n",
       "3       NaN\n",
       "4       NaN\n",
       "       ... \n",
       "1455    NaN\n",
       "1456    NaN\n",
       "1457    NaN\n",
       "1458    NaN\n",
       "1459    NaN\n",
       "Name: Alley, Length: 1460, dtype: category\n",
       "Categories (2, object): [Grvl < Pave]"
      ]
     },
     "execution_count": 69,
     "metadata": {},
     "output_type": "execute_result"
    }
   ],
   "source": [
    "df[\"Alley\"]"
   ]
  },
  {
   "cell_type": "code",
   "execution_count": 70,
   "metadata": {},
   "outputs": [],
   "source": [
    "from pandas.api.types import is_numeric_dtype \n",
    "def numericalize(df):\n",
    "    \"Kategorik verilerin numaralarını df'de igili sutuna yazdırma\"\n",
    "    for name,col in df.items():\n",
    "        if not is_numeric_dtype(col):\n",
    "            df[name] = col.cat.codes + 1 "
   ]
  },
  {
   "cell_type": "code",
   "execution_count": 71,
   "metadata": {},
   "outputs": [],
   "source": [
    "numericalize(df)"
   ]
  },
  {
   "cell_type": "code",
   "execution_count": 72,
   "metadata": {},
   "outputs": [
    {
     "name": "stdout",
     "output_type": "stream",
     "text": [
      "<class 'pandas.core.frame.DataFrame'>\n",
      "RangeIndex: 1460 entries, 0 to 1459\n",
      "Data columns (total 81 columns):\n",
      " #   Column         Non-Null Count  Dtype  \n",
      "---  ------         --------------  -----  \n",
      " 0   Id             1460 non-null   int64  \n",
      " 1   MSSubClass     1460 non-null   int64  \n",
      " 2   MSZoning       1460 non-null   int8   \n",
      " 3   LotFrontage    1201 non-null   float64\n",
      " 4   LotArea        1460 non-null   int64  \n",
      " 5   Street         1460 non-null   int8   \n",
      " 6   Alley          1460 non-null   int8   \n",
      " 7   LotShape       1460 non-null   int8   \n",
      " 8   LandContour    1460 non-null   int8   \n",
      " 9   Utilities      1460 non-null   int8   \n",
      " 10  LotConfig      1460 non-null   int8   \n",
      " 11  LandSlope      1460 non-null   int8   \n",
      " 12  Neighborhood   1460 non-null   int8   \n",
      " 13  Condition1     1460 non-null   int8   \n",
      " 14  Condition2     1460 non-null   int8   \n",
      " 15  BldgType       1460 non-null   int8   \n",
      " 16  HouseStyle     1460 non-null   int8   \n",
      " 17  OverallQual    1460 non-null   int64  \n",
      " 18  OverallCond    1460 non-null   int64  \n",
      " 19  YearBuilt      1460 non-null   int64  \n",
      " 20  YearRemodAdd   1460 non-null   int64  \n",
      " 21  RoofStyle      1460 non-null   int8   \n",
      " 22  RoofMatl       1460 non-null   int8   \n",
      " 23  Exterior1st    1460 non-null   int8   \n",
      " 24  Exterior2nd    1460 non-null   int8   \n",
      " 25  MasVnrType     1460 non-null   int8   \n",
      " 26  MasVnrArea     1452 non-null   float64\n",
      " 27  ExterQual      1460 non-null   int8   \n",
      " 28  ExterCond      1460 non-null   int8   \n",
      " 29  Foundation     1460 non-null   int8   \n",
      " 30  BsmtQual       1460 non-null   int8   \n",
      " 31  BsmtCond       1460 non-null   int8   \n",
      " 32  BsmtExposure   1460 non-null   int8   \n",
      " 33  BsmtFinType1   1460 non-null   int8   \n",
      " 34  BsmtFinSF1     1460 non-null   int64  \n",
      " 35  BsmtFinType2   1460 non-null   int8   \n",
      " 36  BsmtFinSF2     1460 non-null   int64  \n",
      " 37  BsmtUnfSF      1460 non-null   int64  \n",
      " 38  TotalBsmtSF    1460 non-null   int64  \n",
      " 39  Heating        1460 non-null   int8   \n",
      " 40  HeatingQC      1460 non-null   int8   \n",
      " 41  CentralAir     1460 non-null   int8   \n",
      " 42  Electrical     1460 non-null   int8   \n",
      " 43  1stFlrSF       1460 non-null   int64  \n",
      " 44  2ndFlrSF       1460 non-null   int64  \n",
      " 45  LowQualFinSF   1460 non-null   int64  \n",
      " 46  GrLivArea      1460 non-null   int64  \n",
      " 47  BsmtFullBath   1460 non-null   int64  \n",
      " 48  BsmtHalfBath   1460 non-null   int64  \n",
      " 49  FullBath       1460 non-null   int64  \n",
      " 50  HalfBath       1460 non-null   int64  \n",
      " 51  BedroomAbvGr   1460 non-null   int64  \n",
      " 52  KitchenAbvGr   1460 non-null   int64  \n",
      " 53  KitchenQual    1460 non-null   int8   \n",
      " 54  TotRmsAbvGrd   1460 non-null   int64  \n",
      " 55  Functional     1460 non-null   int8   \n",
      " 56  Fireplaces     1460 non-null   int64  \n",
      " 57  FireplaceQu    1460 non-null   int8   \n",
      " 58  GarageType     1460 non-null   int8   \n",
      " 59  GarageYrBlt    1379 non-null   float64\n",
      " 60  GarageFinish   1460 non-null   int8   \n",
      " 61  GarageCars     1460 non-null   int64  \n",
      " 62  GarageArea     1460 non-null   int64  \n",
      " 63  GarageQual     1460 non-null   int8   \n",
      " 64  GarageCond     1460 non-null   int8   \n",
      " 65  PavedDrive     1460 non-null   int8   \n",
      " 66  WoodDeckSF     1460 non-null   int64  \n",
      " 67  OpenPorchSF    1460 non-null   int64  \n",
      " 68  EnclosedPorch  1460 non-null   int64  \n",
      " 69  3SsnPorch      1460 non-null   int64  \n",
      " 70  ScreenPorch    1460 non-null   int64  \n",
      " 71  PoolArea       1460 non-null   int64  \n",
      " 72  PoolQC         1460 non-null   int8   \n",
      " 73  Fence          1460 non-null   int8   \n",
      " 74  MiscFeature    1460 non-null   int8   \n",
      " 75  MiscVal        1460 non-null   int64  \n",
      " 76  MoSold         1460 non-null   int64  \n",
      " 77  YrSold         1460 non-null   int64  \n",
      " 78  SaleType       1460 non-null   int8   \n",
      " 79  SaleCondition  1460 non-null   int8   \n",
      " 80  SalePrice      1460 non-null   float64\n",
      "dtypes: float64(4), int64(34), int8(43)\n",
      "memory usage: 494.9 KB\n"
     ]
    }
   ],
   "source": [
    "df.info()"
   ]
  },
  {
   "cell_type": "markdown",
   "metadata": {},
   "source": [
    "# Missing Values"
   ]
  },
  {
   "cell_type": "code",
   "execution_count": 73,
   "metadata": {},
   "outputs": [
    {
     "name": "stdout",
     "output_type": "stream",
     "text": [
      "LotFrontage\n",
      "MasVnrArea\n",
      "GarageYrBlt\n"
     ]
    }
   ],
   "source": [
    "for n,c in df.items():\n",
    "    if is_numeric_dtype(c):\n",
    "        if df[n].isnull().sum():\n",
    "            print(n)"
   ]
  },
  {
   "cell_type": "code",
   "execution_count": 74,
   "metadata": {},
   "outputs": [],
   "source": [
    "def fix_missing(df):\n",
    "    for name,col in df.items():\n",
    "        if is_numeric_dtype(col):\n",
    "            if pd.isnull(col).sum():\n",
    "                df[name+\"_na\"]=pd.isnull(col)\n",
    "                df[name] = col.fillna(0)"
   ]
  },
  {
   "cell_type": "code",
   "execution_count": 75,
   "metadata": {},
   "outputs": [],
   "source": [
    "fix_missing(df)"
   ]
  },
  {
   "cell_type": "code",
   "execution_count": 76,
   "metadata": {},
   "outputs": [],
   "source": [
    "from sklearn.model_selection import  train_test_split"
   ]
  },
  {
   "cell_type": "markdown",
   "metadata": {},
   "source": [
    "# Modelling"
   ]
  },
  {
   "cell_type": "code",
   "execution_count": 77,
   "metadata": {},
   "outputs": [],
   "source": [
    "x_train =df.copy()\n",
    "y_train = df[\"SalePrice\"].values\n",
    "x_train.drop(\"SalePrice\",axis=1,inplace=True)"
   ]
  },
  {
   "cell_type": "code",
   "execution_count": 92,
   "metadata": {},
   "outputs": [],
   "source": [
    "x_train, x_val, y_train, y_val = train_test_split(x_train, y_train,\n",
    "                                                  test_size = 0.25)"
   ]
  },
  {
   "cell_type": "code",
   "execution_count": 79,
   "metadata": {},
   "outputs": [],
   "source": [
    "from sklearn.ensemble import RandomForestRegressor\n",
    "from IPython.display import display\n",
    "from sklearn import metrics"
   ]
  },
  {
   "cell_type": "code",
   "execution_count": 80,
   "metadata": {},
   "outputs": [],
   "source": [
    "import math\n",
    "def rmse(x,y):\n",
    "    return math.sqrt(((x-y)**2).mean())"
   ]
  },
  {
   "cell_type": "code",
   "execution_count": 81,
   "metadata": {},
   "outputs": [],
   "source": [
    "def print_score(m):\n",
    "    print(f\"RMSE of train set {rmse(m.predict(x_train),y_train)}\")\n",
    "    print(f\"RMSE of valid set {rmse(m.predict(x_val),y_val)}\")\n",
    "    print(f\"R^2 of train set  {m.score(x_train,y_train)}\")\n",
    "    print(f\"R^2 of valid set {m.score(x_val,y_val)}\")"
   ]
  },
  {
   "cell_type": "code",
   "execution_count": 82,
   "metadata": {},
   "outputs": [
    {
     "name": "stdout",
     "output_type": "stream",
     "text": [
      "Wall time: 566 ms\n"
     ]
    },
    {
     "data": {
      "text/plain": [
       "RandomForestRegressor(n_jobs=-1)"
      ]
     },
     "execution_count": 82,
     "metadata": {},
     "output_type": "execute_result"
    }
   ],
   "source": [
    "m = RandomForestRegressor(n_estimators=100,n_jobs=-1)\n",
    "%time m.fit(x_train,y_train)"
   ]
  },
  {
   "cell_type": "code",
   "execution_count": 83,
   "metadata": {},
   "outputs": [
    {
     "name": "stdout",
     "output_type": "stream",
     "text": [
      "RMSE of train set 0.05273949688550509\n",
      "RMSE of valid set 0.15716832040923864\n",
      "R^2 of train set  0.9828556780270187\n",
      "R^2 of valid set 0.8365083995701134\n"
     ]
    }
   ],
   "source": [
    "print_score(m)"
   ]
  },
  {
   "cell_type": "code",
   "execution_count": 84,
   "metadata": {},
   "outputs": [
    {
     "name": "stdout",
     "output_type": "stream",
     "text": [
      "Wall time: 314 ms\n"
     ]
    },
    {
     "data": {
      "text/plain": [
       "RandomForestRegressor(max_features=0.5, min_samples_leaf=5, n_jobs=-1)"
      ]
     },
     "execution_count": 84,
     "metadata": {},
     "output_type": "execute_result"
    }
   ],
   "source": [
    "m= RandomForestRegressor(n_estimators=100,min_samples_leaf=5,max_features=0.5,n_jobs=-1  )\n",
    "%time m.fit(x_train,y_train)"
   ]
  },
  {
   "cell_type": "code",
   "execution_count": 85,
   "metadata": {},
   "outputs": [
    {
     "name": "stdout",
     "output_type": "stream",
     "text": [
      "RMSE of train set 0.09303117754485077\n",
      "RMSE of valid set 0.14615041647234794\n",
      "R^2 of train set  0.9466535670313625\n",
      "R^2 of valid set 0.8586273054863559\n"
     ]
    }
   ],
   "source": [
    "print_score(m)"
   ]
  },
  {
   "cell_type": "code",
   "execution_count": 86,
   "metadata": {},
   "outputs": [
    {
     "name": "stdout",
     "output_type": "stream",
     "text": [
      "Wall time: 469 ms\n"
     ]
    },
    {
     "data": {
      "text/plain": [
       "RandomForestRegressor(max_depth=10, n_jobs=-1)"
      ]
     },
     "execution_count": 86,
     "metadata": {},
     "output_type": "execute_result"
    }
   ],
   "source": [
    "m = RandomForestRegressor(n_estimators=100,max_depth=10,n_jobs=-1)\n",
    "%time m.fit(x_train,y_train)"
   ]
  },
  {
   "cell_type": "code",
   "execution_count": 87,
   "metadata": {},
   "outputs": [
    {
     "name": "stdout",
     "output_type": "stream",
     "text": [
      "RMSE of train set 0.060361651682101614\n",
      "RMSE of valid set 0.1575404652759677\n",
      "R^2 of train set  0.9775420257729469\n",
      "R^2 of valid set 0.8357332485532442\n"
     ]
    }
   ],
   "source": [
    "print_score(m)"
   ]
  },
  {
   "cell_type": "code",
   "execution_count": 94,
   "metadata": {},
   "outputs": [
    {
     "data": {
      "text/plain": [
       "RandomForestRegressor(max_depth=200, n_jobs=-1)"
      ]
     },
     "execution_count": 94,
     "metadata": {},
     "output_type": "execute_result"
    }
   ],
   "source": [
    "main_model= RandomForestRegressor(n_estimators=100,max_depth=200,n_jobs=-1)\n",
    "main_model.fit(x_train,y_train)"
   ]
  },
  {
   "cell_type": "code",
   "execution_count": 95,
   "metadata": {},
   "outputs": [
    {
     "name": "stdout",
     "output_type": "stream",
     "text": [
      "RMSE of train set 0.05427423647505069\n",
      "RMSE of valid set 0.1453106647978413\n",
      "R^2 of train set  0.9818608249119675\n",
      "R^2 of valid set 0.8691611213900969\n"
     ]
    }
   ],
   "source": [
    "print_score(main_model)"
   ]
  }
 ],
 "metadata": {
  "kernelspec": {
   "display_name": "Python 3",
   "language": "python",
   "name": "python3"
  },
  "language_info": {
   "codemirror_mode": {
    "name": "ipython",
    "version": 3
   },
   "file_extension": ".py",
   "mimetype": "text/x-python",
   "name": "python",
   "nbconvert_exporter": "python",
   "pygments_lexer": "ipython3",
   "version": "3.8.3"
  }
 },
 "nbformat": 4,
 "nbformat_minor": 4
}
